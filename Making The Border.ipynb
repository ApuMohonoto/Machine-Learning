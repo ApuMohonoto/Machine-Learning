{
 "cells": [
  {
   "cell_type": "code",
   "execution_count": 37,
   "id": "e55acc67-5648-4fc6-98e9-14db4811838c",
   "metadata": {},
   "outputs": [],
   "source": [
    "import cv2\n",
    "import numpy as np\n",
    "img1=cv2.imread(r\"R:\\rohan.JPG\")\n",
    "i1=cv2.resize(img1,(300,400))\n",
    "h1=cv2.copyMakeBorder(i1,20,20,20,20,cv2.BORDER_CONSTANT,None,value=2)#imag,top,bottom,left,right,border type,destination,value\n",
    "h2=cv2.copyMakeBorder(i1,20,20,20,20,cv2.BORDER_REFLECT,None,value=2)#imag,top,bottom,left,right,border type,destination,value\n",
    "h3=cv2.copyMakeBorder(i1,20,20,20,20,cv2.BORDER_DEFAULT,None,value=2)#imag,top,bottom,left,right,border type,destination,value\n",
    "h4=cv2.copyMakeBorder(i1,20,20,20,20,cv2.BORDER_REPLICATE,None,value=2)#imag,top,bottom,left,right,border type,destination,value\n",
    "h1=cv2.resize(h1,(300,400))\n",
    "h2=cv2.resize(h2,(300,400))\n",
    "h3=cv2.resize(h3,(300,400))\n",
    "h4=cv2.resize(h4,(300,400))\n",
    "h=np.hstack((i1,h1,h2,h3,h4))\n",
    "cv2.imshow(\"apu\",h)\n",
    "cv2.waitKey(0)\n",
    "cv2.destroyAllWindows()"
   ]
  },
  {
   "cell_type": "code",
   "execution_count": 38,
   "id": "4ec45ad2-6220-4968-ae41-016070a78b39",
   "metadata": {},
   "outputs": [],
   "source": [
    "import cv2\n",
    "import numpy as np\n",
    "img1=cv2.imread(r\"R:\\rohan.JPG\")\n",
    "i1=cv2.resize(img1,(300,400))\n",
    "h1=cv2.copyMakeBorder(i1,20,20,20,20,cv2.BORDER_REFLECT,None,value=2)#imag,top,bottom,left,right,border type,destination,value\n",
    "h1=cv2.resize(h1,(300,400))\n",
    "h=np.hstack((i1,h1))\n",
    "cv2.imshow(\"apu\",h)\n",
    "cv2.waitKey(0)\n",
    "cv2.destroyAllWindows()"
   ]
  },
  {
   "cell_type": "code",
   "execution_count": null,
   "id": "6529dd59-dfc0-4eee-bd55-e643e16fefc0",
   "metadata": {},
   "outputs": [],
   "source": []
  },
  {
   "cell_type": "code",
   "execution_count": null,
   "id": "8bee5989-2206-4cd9-862b-05d33c670320",
   "metadata": {},
   "outputs": [],
   "source": []
  }
 ],
 "metadata": {
  "kernelspec": {
   "display_name": "Python 3 (ipykernel)",
   "language": "python",
   "name": "python3"
  },
  "language_info": {
   "codemirror_mode": {
    "name": "ipython",
    "version": 3
   },
   "file_extension": ".py",
   "mimetype": "text/x-python",
   "name": "python",
   "nbconvert_exporter": "python",
   "pygments_lexer": "ipython3",
   "version": "3.12.0"
  }
 },
 "nbformat": 4,
 "nbformat_minor": 5
}
