{
 "cells": [
  {
   "cell_type": "code",
   "execution_count": null,
   "id": "22b96de7-60ee-4028-aba3-51f472ef9617",
   "metadata": {},
   "outputs": [],
   "source": [
    "#lasso Regularization(L1)\n",
    "feature selection er kaj kore\n",
    "j coef lage na setar value zero kore dey\n",
    "cost function k change kore\n",
    "lambda er value beshi hole curve 0 er dike ase"
   ]
  },
  {
   "cell_type": "code",
   "execution_count": null,
   "id": "7b95a181-f965-4402-bbd7-de1dcdb25d52",
   "metadata": {},
   "outputs": [],
   "source": [
    "# ridge Regularization(L2)\n",
    "coef constant er value onek beshi\n",
    "coef er value zero kore na zeror kache niye aste hoy\n",
    "lambda er value beshi hole curve 0 er dike ase\n",
    "overfitting hote dey na\n",
    "computation value komaty dey\n",
    "feature selection er kaj kore "
   ]
  }
 ],
 "metadata": {
  "kernelspec": {
   "display_name": "Python 3 (ipykernel)",
   "language": "python",
   "name": "python3"
  },
  "language_info": {
   "codemirror_mode": {
    "name": "ipython",
    "version": 3
   },
   "file_extension": ".py",
   "mimetype": "text/x-python",
   "name": "python",
   "nbconvert_exporter": "python",
   "pygments_lexer": "ipython3",
   "version": "3.12.0"
  }
 },
 "nbformat": 4,
 "nbformat_minor": 5
}
