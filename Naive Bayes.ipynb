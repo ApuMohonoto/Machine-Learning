{
 "cells": [
  {
   "cell_type": "code",
   "execution_count": null,
   "id": "efb55b94-3d0e-4432-81d8-be38e1c8c15f",
   "metadata": {},
   "outputs": [],
   "source": [
    "# Naive Bays cLassification er madhone hoy\n",
    "# Conditional Probability er opor Naive Bays kaj kore\n",
    "# p(A/B)=(p(B/A)*p(A))/p(B)\n",
    "# Gausian,Bernoli,Mulinomial\n",
    "# Data r normal distribution hole Naive Bays\n",
    "# data set jodi sudhu boolean data hoy tokhon bernoli\n",
    "# data jodi text hoy,r data jodi descret or distribution normal na hoy tahole multinomial data"
   ]
  }
 ],
 "metadata": {
  "kernelspec": {
   "display_name": "Python 3 (ipykernel)",
   "language": "python",
   "name": "python3"
  },
  "language_info": {
   "codemirror_mode": {
    "name": "ipython",
    "version": 3
   },
   "file_extension": ".py",
   "mimetype": "text/x-python",
   "name": "python",
   "nbconvert_exporter": "python",
   "pygments_lexer": "ipython3",
   "version": "3.12.0"
  }
 },
 "nbformat": 4,
 "nbformat_minor": 5
}
