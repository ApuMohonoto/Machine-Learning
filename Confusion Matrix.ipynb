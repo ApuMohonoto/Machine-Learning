{
 "cells": [
  {
   "cell_type": "code",
   "execution_count": null,
   "id": "c7ea4cc1-3b61-4254-9815-87a439009cba",
   "metadata": {},
   "outputs": [],
   "source": [
    "# y(orginal) and y(predicted) er modhe j matrix seta holo confusion matrix\n",
    "# accuracy=(TN+TP)/N , N=TN+TP+FN+FP\n",
    "#Erorr=(FN+FP)/N\n",
    "#False-negative==Type 2\n",
    "#False-positive==Type 1"
   ]
  }
 ],
 "metadata": {
  "kernelspec": {
   "display_name": "Python 3 (ipykernel)",
   "language": "python",
   "name": "python3"
  },
  "language_info": {
   "codemirror_mode": {
    "name": "ipython",
    "version": 3
   },
   "file_extension": ".py",
   "mimetype": "text/x-python",
   "name": "python",
   "nbconvert_exporter": "python",
   "pygments_lexer": "ipython3",
   "version": "3.12.0"
  }
 },
 "nbformat": 4,
 "nbformat_minor": 5
}
